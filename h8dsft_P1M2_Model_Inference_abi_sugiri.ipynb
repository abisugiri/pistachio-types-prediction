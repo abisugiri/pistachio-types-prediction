{
 "cells": [
  {
   "cell_type": "markdown",
   "metadata": {},
   "source": [
    "# Perkenalan\n",
    "\n",
    "Nama : Abi Sugiri \n",
    "\n",
    "Batch: RMT 021"
   ]
  },
  {
   "cell_type": "markdown",
   "metadata": {},
   "source": [
    "# Model Inference"
   ]
  },
  {
   "cell_type": "markdown",
   "metadata": {},
   "source": [
    "## Importing Libraries "
   ]
  },
  {
   "cell_type": "code",
   "execution_count": 7,
   "metadata": {},
   "outputs": [],
   "source": [
    "#Import library\n",
    "\n",
    "import pandas as pd\n",
    "import numpy as np\n",
    "import pickle"
   ]
  },
  {
   "cell_type": "markdown",
   "metadata": {},
   "source": [
    "## Load Files"
   ]
  },
  {
   "cell_type": "code",
   "execution_count": 8,
   "metadata": {},
   "outputs": [],
   "source": [
    "with open('model_scaler.pkl', 'rb') as file_1:\n",
    "  scaler = pickle.load(file_1)\n",
    "\n",
    "with open('rf_clf.pkl', 'rb') as file_2:\n",
    "  rf_clf = pickle.load(file_2)"
   ]
  },
  {
   "cell_type": "markdown",
   "metadata": {},
   "source": [
    "## Creating new Data"
   ]
  },
  {
   "cell_type": "code",
   "execution_count": 9,
   "metadata": {},
   "outputs": [
    {
     "data": {
      "text/html": [
       "<div>\n",
       "<style scoped>\n",
       "    .dataframe tbody tr th:only-of-type {\n",
       "        vertical-align: middle;\n",
       "    }\n",
       "\n",
       "    .dataframe tbody tr th {\n",
       "        vertical-align: top;\n",
       "    }\n",
       "\n",
       "    .dataframe thead th {\n",
       "        text-align: right;\n",
       "    }\n",
       "</style>\n",
       "<table border=\"1\" class=\"dataframe\">\n",
       "  <thead>\n",
       "    <tr style=\"text-align: right;\">\n",
       "      <th></th>\n",
       "      <th>AREA</th>\n",
       "      <th>PERIMETER</th>\n",
       "      <th>MAJOR_AXIS</th>\n",
       "      <th>MINOR_AXIS</th>\n",
       "      <th>ECCENTRICITY</th>\n",
       "      <th>EQDIASQ</th>\n",
       "      <th>SOLIDITY</th>\n",
       "      <th>CONVEX_AREA</th>\n",
       "      <th>EXTENT</th>\n",
       "      <th>ASPECT_RATIO</th>\n",
       "      <th>ROUNDNESS</th>\n",
       "      <th>COMPACTNESS</th>\n",
       "      <th>SHAPEFACTOR_1</th>\n",
       "      <th>SHAPEFACTOR_2</th>\n",
       "      <th>SHAPEFACTOR_3</th>\n",
       "      <th>SHAPEFACTOR_4</th>\n",
       "    </tr>\n",
       "  </thead>\n",
       "  <tbody>\n",
       "    <tr>\n",
       "      <th>0</th>\n",
       "      <td>100207</td>\n",
       "      <td>2110.77</td>\n",
       "      <td>476.0792</td>\n",
       "      <td>274.6955</td>\n",
       "      <td>0.8173</td>\n",
       "      <td>357.1939</td>\n",
       "      <td>0.9534</td>\n",
       "      <td>105543</td>\n",
       "      <td>0.6499</td>\n",
       "      <td>1.7331</td>\n",
       "      <td>0.2826</td>\n",
       "      <td>0.7503</td>\n",
       "      <td>0.0047</td>\n",
       "      <td>0.0027</td>\n",
       "      <td>0.5629</td>\n",
       "      <td>0.9767</td>\n",
       "    </tr>\n",
       "  </tbody>\n",
       "</table>\n",
       "</div>"
      ],
      "text/plain": [
       "     AREA  PERIMETER  MAJOR_AXIS  MINOR_AXIS  ECCENTRICITY   EQDIASQ  \\\n",
       "0  100207    2110.77    476.0792    274.6955        0.8173  357.1939   \n",
       "\n",
       "   SOLIDITY  CONVEX_AREA  EXTENT  ASPECT_RATIO  ROUNDNESS  COMPACTNESS  \\\n",
       "0    0.9534       105543  0.6499        1.7331     0.2826       0.7503   \n",
       "\n",
       "   SHAPEFACTOR_1  SHAPEFACTOR_2  SHAPEFACTOR_3  SHAPEFACTOR_4  \n",
       "0         0.0047         0.0027         0.5629         0.9767  "
      ]
     },
     "execution_count": 9,
     "metadata": {},
     "output_type": "execute_result"
    }
   ],
   "source": [
    "#Create new data\n",
    "\n",
    "data_inf = {\n",
    "    'AREA' : 100207,\n",
    "    'PERIMETER' : 2110.7700,\n",
    "    'MAJOR_AXIS' : 476.0792,\n",
    "    'MINOR_AXIS' : 274.6955,\n",
    "    'ECCENTRICITY' : 0.8173,\n",
    "    'EQDIASQ' : 357.1939,\n",
    "    'SOLIDITY' : 0.9534,\n",
    "    'CONVEX_AREA' : 105543,\n",
    "    'EXTENT' : 0.6499,\n",
    "    'ASPECT_RATIO': 1.7331,\n",
    "    'ROUNDNESS' : 0.2826,\n",
    "    'COMPACTNESS' : 0.7503,\n",
    "    'SHAPEFACTOR_1' : 0.0047,\n",
    "    'SHAPEFACTOR_2' : 0.0027,\n",
    "    'SHAPEFACTOR_3' : 0.5629,\n",
    "    'SHAPEFACTOR_4' : 0.9767\n",
    "    }\n",
    "\n",
    "data_inf = pd.DataFrame([data_inf])\n",
    "data_inf"
   ]
  },
  {
   "cell_type": "code",
   "execution_count": 10,
   "metadata": {},
   "outputs": [],
   "source": [
    "#Feature scaling\n",
    "\n",
    "data_inf_scaled = scaler.transform(data_inf)"
   ]
  },
  {
   "cell_type": "code",
   "execution_count": 11,
   "metadata": {},
   "outputs": [
    {
     "data": {
      "text/plain": [
       "array([1])"
      ]
     },
     "execution_count": 11,
     "metadata": {},
     "output_type": "execute_result"
    }
   ],
   "source": [
    "#Predict using rf\n",
    "\n",
    "y_pred_inf = rf_clf.predict(data_inf_scaled)\n",
    "y_pred_inf"
   ]
  },
  {
   "cell_type": "markdown",
   "metadata": {},
   "source": [
    "Hasil prediksi dari model inferencing adalah 1 atau 'Siit_Pistachio'"
   ]
  }
 ],
 "metadata": {
  "kernelspec": {
   "display_name": "base",
   "language": "python",
   "name": "python3"
  },
  "language_info": {
   "codemirror_mode": {
    "name": "ipython",
    "version": 3
   },
   "file_extension": ".py",
   "mimetype": "text/x-python",
   "name": "python",
   "nbconvert_exporter": "python",
   "pygments_lexer": "ipython3",
   "version": "3.9.16"
  },
  "orig_nbformat": 4
 },
 "nbformat": 4,
 "nbformat_minor": 2
}
